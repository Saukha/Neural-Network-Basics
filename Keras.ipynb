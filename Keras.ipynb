{
 "cells": [
  {
   "cell_type": "markdown",
   "metadata": {},
   "source": [
    "# Creating a Neural Network in Keras\n",
    "\n",
    "All good projects start with a Dataset and today, that's the **Fashion-MNIST** dataset. It has 60,000 training samples & 10,000 test samples of grayscale images, each 28x28 pixels. It's available at: https://github.com/zalandoresearch/fashion-mnist\n",
    "\n",
    "<img src='img/fashionmnist.png'>\n",
    "\n",
    "Each clothing article is labeled into 10 categories which are...\n",
    "\n",
    "0. T-Shirt/Top\n",
    "1. Trouser\n",
    "2. Pullover\n",
    "3. Dress\n",
    "4. Coat\n",
    "5. Sandal\n",
    "6. Shirt\n",
    "7. Sneaker\n",
    "8. Bag\n",
    "9. Ankle Boot\n",
    "\n",
    "And as a note, the dataset is zeros-indexed so T-Shirt/Top is actually #0. Jupyter Notebook's lists are not zeros-indexed.\n",
    "\n",
    "If you go to the Github page, the authors of this dataset make a pretty convincing argument why this dataset is better than the far more popular MNIST dataset, which has images containing handwritten numerical digits, and is used around the world to test new networks. In summary, the MNIST dataset has been used so much, it's not really challenging anymore to predict it -- even to the point that normal machine learning models can figure it out."
   ]
  },
  {
   "cell_type": "markdown",
   "metadata": {},
   "source": [
    "----\n",
    "# Pre-Requisites\n",
    "To do this, I assume you have the following:\n",
    "* Anaconda 5.0.1 (This is a Python Distribution with several scientific libraries built in)\n",
    "* Keras\n",
    "* TensorFlow\n",
    "* [Optional] Theano\n",
    "\n",
    "I assume you're running with the latest version of all of Anaconda's libraries. To upgrade Anaconda, you'd run `conda upgrade --all` in your terminal. If you're using Windows... God have mercy on your soul.\n",
    "\n",
    "To install Keras, TensorFlow, & Theano: Run `conda install keras tensorflow theano` in your terminal.\n",
    "\n",
    "*NVIDIA GPU Note:* If you have an NVIDIA GPU on your computer, this specific command will not give you a GPU enabled version of TensorFlow. To get a GPU enabled version, you can follow the instructions at https://www.tensorflow.org/install/, but I must admit that I ran into some issues integrating it with Anaconda (correctly). I personally got my GPU enabled copy of TensorFlow from https://github.com/nathanielatom/tensorflow, which Nathaniel already compiled for all the different operating systems."
   ]
  },
  {
   "cell_type": "markdown",
   "metadata": {},
   "source": [
    "### What is TensorFlow, Theano, or Microsoft CNTK.\n",
    "**TensorFlow** is a library with algorithms and concepts to accelerate the types of computation often used in Deep Learning. TensorFlow is Google's solution. It's what we'll use today becuase it's Mac + Linux + Windows compatible and is generally faster on CPUs, which I assume most of us are using today. \n",
    "\n",
    "This isn't to discount the other libraries though. **Theano** is a popular library although it has been discontinued. Originally created by the academic community, it is the oldest library by far, and I would argue is a more 'stable' library given how TensorFlow & Microsoft CNTK changes quickly. While it won't recieve any new development as academic knowledge increases, it definately is still honored and well respected as the original computation library.\n",
    "\n",
    "**Microsoft CNTK** is extremely new and is in a lot of active development. While it's faster & more accurate than TensorFlow, it also has a smaller community, partially due to its recent creation & feelings about Microsoft. While we won't use this today, it's something worth keeping an eye on."
   ]
  },
  {
   "cell_type": "markdown",
   "metadata": {},
   "source": [
    "### What is Keras?\n",
    "**Keras** is a high level Python API that allows for fast prototyping of Convolutional and/or Recurrent Neural Networks. Because it integrates with TensorFlow, Theano, and Microsoft CNTK, it lets us test each of those three computation libraries because different libraries could perform better in different models. \n",
    "\n",
    "By default, Keras is ready to go to use TensorFlow. If you wanted to use a different library and/or wanted to use your GPU, you'll need to make a file at `~/.keras/keras.json` (where ~ = your home dir). For example, mine looks like:"
   ]
  },
  {
   "cell_type": "code",
   "execution_count": 1,
   "metadata": {},
   "outputs": [
    {
     "data": {
      "text/plain": [
       "{'backend': 'tensorflow',\n",
       " 'device': 'cuda',\n",
       " 'image_data_format': 'channels_last'}"
      ]
     },
     "execution_count": 1,
     "metadata": {},
     "output_type": "execute_result"
    }
   ],
   "source": [
    "{\n",
    "    \"image_data_format\": \"channels_last\",\n",
    "    \"backend\": \"tensorflow\",\n",
    "    \"device\": \"cuda\"\n",
    "}"
   ]
  },
  {
   "cell_type": "markdown",
   "metadata": {},
   "source": [
    "----\n",
    "# Loading up the Data\n",
    "Keras already has a built in function to load the Fashion MNIST dataset so we'll use that."
   ]
  },
  {
   "cell_type": "code",
   "execution_count": 2,
   "metadata": {},
   "outputs": [
    {
     "name": "stderr",
     "output_type": "stream",
     "text": [
      "Using TensorFlow backend.\n",
      "/Users/Matthew/anaconda3/lib/python3.6/importlib/_bootstrap.py:219: RuntimeWarning: compiletime version 3.5 of module 'tensorflow.python.framework.fast_tensor_util' does not match runtime version 3.6\n",
      "  return f(*args, **kwds)\n"
     ]
    }
   ],
   "source": [
    "from keras.datasets import fashion_mnist\n",
    "\n",
    "(x_train, y_train), (x_test, y_test) = fashion_mnist.load_data()"
   ]
  },
  {
   "cell_type": "markdown",
   "metadata": {},
   "source": [
    "### Output Layers\n",
    "`y_train` and `y_test` are Numpy Arrays with the correct classification value of each image. These are one dimensional arrays with a value for each sample in the dataset. "
   ]
  },
  {
   "cell_type": "code",
   "execution_count": 3,
   "metadata": {},
   "outputs": [
    {
     "name": "stdout",
     "output_type": "stream",
     "text": [
      "(60000,)\n",
      "[9 0 0 ..., 3 0 5]\n"
     ]
    }
   ],
   "source": [
    "# y_train is a Numpy Array which is shaped and looks like this\n",
    "print(y_train.shape)\n",
    "print(y_train)"
   ]
  },
  {
   "cell_type": "markdown",
   "metadata": {},
   "source": [
    "And these are the 'classes' that are valid for each integer type."
   ]
  },
  {
   "cell_type": "code",
   "execution_count": 4,
   "metadata": {},
   "outputs": [],
   "source": [
    "# List of valid classes\n",
    "classes = {0: 'T-Shirt/top',\n",
    "           1: 'Trouser',\n",
    "           2: 'Pullover',\n",
    "           3: 'Dress',\n",
    "           4: 'Coat',\n",
    "           5: 'Sandal',\n",
    "           6: 'Shirt',\n",
    "           7: 'Sneaker',\n",
    "           8: 'Bag',\n",
    "           9: 'Ankle boot'}\n",
    "classes_list = list(classes.values())"
   ]
  },
  {
   "cell_type": "markdown",
   "metadata": {},
   "source": [
    "We need to reshape this dataset. Right now, this is a one dimensional dataset with an entry for each image. Keras + TensorFlow expects this shape to `(qtyOfSamples, qtyOfClasses, qtyOfClasses)`. Keras comes with a built in Numpy Utilities library which can auto-generate this array so that all values per each sample is 0, except for the single value which correctly distinguishes which class applies to the given sample."
   ]
  },
  {
   "cell_type": "code",
   "execution_count": 5,
   "metadata": {},
   "outputs": [
    {
     "name": "stdout",
     "output_type": "stream",
     "text": [
      "(60000, 10)\n",
      "(10000, 10)\n"
     ]
    }
   ],
   "source": [
    "from keras.utils import np_utils\n",
    "\n",
    "y_train = np_utils.to_categorical(y_train, 10)\n",
    "y_test = np_utils.to_categorical(y_test, 10)\n",
    "\n",
    "print(y_train.shape)\n",
    "print(y_test.shape)"
   ]
  },
  {
   "cell_type": "markdown",
   "metadata": {},
   "source": [
    "### Input Layers\n",
    "`x_train` and `x_test` are Numpy Arrays which have the inputs for the training and testing data set. Each set contains either 60,000 samples or 10,000 samples and each sample is 28x28 pixels. Because each sample is a grayscale image, this is a binary dataset."
   ]
  },
  {
   "cell_type": "code",
   "execution_count": 6,
   "metadata": {
    "scrolled": true
   },
   "outputs": [
    {
     "name": "stdout",
     "output_type": "stream",
     "text": [
      "(60000, 28, 28)\n",
      "[[[0 0 0 ..., 0 0 0]\n",
      "  [0 0 0 ..., 0 0 0]\n",
      "  [0 0 0 ..., 0 0 0]\n",
      "  ..., \n",
      "  [0 0 0 ..., 0 0 0]\n",
      "  [0 0 0 ..., 0 0 0]\n",
      "  [0 0 0 ..., 0 0 0]]\n",
      "\n",
      " [[0 0 0 ..., 0 0 0]\n",
      "  [0 0 0 ..., 0 0 0]\n",
      "  [0 0 0 ..., 0 0 0]\n",
      "  ..., \n",
      "  [0 0 0 ..., 0 0 0]\n",
      "  [0 0 0 ..., 0 0 0]\n",
      "  [0 0 0 ..., 0 0 0]]\n",
      "\n",
      " [[0 0 0 ..., 0 0 0]\n",
      "  [0 0 0 ..., 0 0 0]\n",
      "  [0 0 0 ..., 0 0 0]\n",
      "  ..., \n",
      "  [0 0 0 ..., 0 0 0]\n",
      "  [0 0 0 ..., 0 0 0]\n",
      "  [0 0 0 ..., 0 0 0]]\n",
      "\n",
      " ..., \n",
      " [[0 0 0 ..., 0 0 0]\n",
      "  [0 0 0 ..., 0 0 0]\n",
      "  [0 0 0 ..., 0 0 0]\n",
      "  ..., \n",
      "  [0 0 0 ..., 0 0 0]\n",
      "  [0 0 0 ..., 0 0 0]\n",
      "  [0 0 0 ..., 0 0 0]]\n",
      "\n",
      " [[0 0 0 ..., 0 0 0]\n",
      "  [0 0 0 ..., 0 0 0]\n",
      "  [0 0 0 ..., 0 0 0]\n",
      "  ..., \n",
      "  [0 0 0 ..., 0 0 0]\n",
      "  [0 0 0 ..., 0 0 0]\n",
      "  [0 0 0 ..., 0 0 0]]\n",
      "\n",
      " [[0 0 0 ..., 0 0 0]\n",
      "  [0 0 0 ..., 0 0 0]\n",
      "  [0 0 0 ..., 0 0 0]\n",
      "  ..., \n",
      "  [0 0 0 ..., 0 0 0]\n",
      "  [0 0 0 ..., 0 0 0]\n",
      "  [0 0 0 ..., 0 0 0]]]\n"
     ]
    }
   ],
   "source": [
    "# x_train is a Numpy Array which is shaped & looks like this\n",
    "print(x_train.shape)\n",
    "print(x_train)"
   ]
  },
  {
   "cell_type": "markdown",
   "metadata": {},
   "source": [
    "We need to reshape this dataset. Keras + TensorFlow expects input data to be arranged in a `(qtyOfSamples, width, length, channels)` format -- i.e. a `channels_last` format. `channels` refer to how many 'color' channels are in your model, such as RGB. Because we're working with grayscale images, channels = 1. Thus, the shape of our model should really be (60000, 28, 28, 1) rather than (60000, 28, 28). More information is at https://stackoverflow.com/questions/46145667/shape-of-tensor-for-2d-image-in-keras.\n",
    "\n",
    "If we were working with `Theano`, it'd expect it to be `channels_first` but let's not worry ourselves about this quite yet.\n",
    "\n",
    "And if we were working with a `Recurrent Neural Network`, which is time-series based, you'd want to reshape your data into a `(timeSteps,featuresPerStep)` shape."
   ]
  },
  {
   "cell_type": "code",
   "execution_count": 7,
   "metadata": {},
   "outputs": [
    {
     "name": "stdout",
     "output_type": "stream",
     "text": [
      "(60000, 28, 28, 1)\n",
      "(10000, 28, 28, 1)\n"
     ]
    }
   ],
   "source": [
    "x_train = x_train.reshape(x_train.shape[0], 28, 28, 1)\n",
    "x_test = x_test.reshape(x_test.shape[0], 28, 28, 1)\n",
    "\n",
    "print(x_train.shape)\n",
    "print(x_test.shape)"
   ]
  },
  {
   "cell_type": "markdown",
   "metadata": {},
   "source": [
    "----\n",
    "# Creating the world's simplest Neural Network\n",
    "I'm going to architecture my Neural Network across three functions:\n",
    "\n",
    "1. `fit_model()` will take in the model I create and the training/test input/output datasets. It'll run those datasets through the model to tell me what it predicted.\n",
    "2. A variety of functions, each one being a different permutation of a Neural Network.\n",
    "3. `set_params()` which is a function containing a single dictionary of parameters that we'll use to train and build models. This lets us create loops to test different permutations of these functions without duplicating code.\n",
    "\n",
    "Normally, we'd call these functions from the `main()` function of our code. Given that this is a Jupyter Notebook, we'll just call them straightup from our code blocks.\n",
    "\n",
    "### fit_model()\n",
    "Because `fit_model()` will never change regardless of what model we'll create, let's create it now."
   ]
  },
  {
   "cell_type": "code",
   "execution_count": 8,
   "metadata": {},
   "outputs": [],
   "source": [
    "def fit_model(model, model_params, x_train, y_train, x_test, y_test):\n",
    "    \"\"\" Fits neural network to the given data \n",
    "\n",
    "        Inputs:\n",
    "        model: The Keras Model created\n",
    "        model_params: Dictionary of different parameters used in the model\n",
    "        x_train: Input training data\n",
    "        y_train: Output training data\n",
    "        x_test: Input test data\n",
    "        y_test: Output test data\n",
    "\n",
    "        Outputs:\n",
    "        y_pred_rounded: The predicted output test data (compare against y_test)\n",
    "        metrics: Dictionary stating the 'loss' and 'acc'(uracy) of our model\n",
    "    \"\"\"\n",
    "    # Fits Model\n",
    "    model.fit(x=x_train, y=y_train, epochs=model_params['epoch'], verbose=1)\n",
    "\n",
    "    # Predicts Model\n",
    "    y_pred = model.predict(x_test)\n",
    "    y_pred_rounded = y_pred.round()\n",
    "\n",
    "    # Scores Model on Test Data\n",
    "    metrics = {'acc': 0.0, 'loss': 0.0}\n",
    "    metrics['loss'], metrics['acc'] = model.evaluate(x_test, y_test)\n",
    "    print('\\nAccuracy {} & Loss {}\\n'.format(metrics['acc'], metrics['loss']))\n",
    "\n",
    "    return y_pred_rounded, metrics"
   ]
  },
  {
   "cell_type": "markdown",
   "metadata": {},
   "source": [
    "The `model.fit()` function as called above expects an `epoch` parameter to be passed in. This is how many iterations we want to run our model over. We'll populate this value later."
   ]
  },
  {
   "cell_type": "markdown",
   "metadata": {},
   "source": [
    "### One-Layer Neural Network\n",
    "Let's first start by creating a standard Neural Network. Recall that in the prior notebook, we discussed that Neural Networks take an input, modified with weights, and ran through multiple neurons with non-linear activation functions.\n",
    "\n",
    "We'll start by creating a simple sequential neural network with one non-linear layer and then one classification layer at the very end. Generally speaking, I won't hardcode any parameters in this model, choosing to pass them in via a dictionary instead."
   ]
  },
  {
   "cell_type": "code",
   "execution_count": 12,
   "metadata": {},
   "outputs": [],
   "source": [
    "def basic_neural(model_params):\n",
    "    \"\"\" Creates a basic Neural Network \"\"\"\n",
    "    from keras.layers import BatchNormalization, Dense, Flatten, InputLayer\n",
    "    from keras.models import Sequential\n",
    "\n",
    "    # Creates a Sequential Model\n",
    "    model = Sequential()\n",
    "\n",
    "    # Prepares the model to accept an input with a 60000x1x28x28 shape.\n",
    "    model.add(InputLayer(input_shape=(28, 28, 1)))\n",
    "\n",
    "    # Sets Batch Normalization\n",
    "    model.add(BatchNormalization())\n",
    "    \n",
    "    # Runs through a Dense Layer & Activation Function\n",
    "    # The first argument is mandatory: It defines the dimensionality of the output space\n",
    "    # The second (optional) argument sets an Activation Function\n",
    "    model.add(Dense(model_params['dense_1'], activation=model_params['activate_1']))\n",
    "\n",
    "    # This flattens the model\n",
    "    model.add(Flatten())\n",
    "\n",
    "    # Runs through a Dense Layer for Classification Purposes\n",
    "    model.add(Dense(10, activation='softmax'))\n",
    "\n",
    "    # Compiles the Model\n",
    "    model.compile(loss=model_params['loss'],\n",
    "                  optimizer=model_params['optimizer'],\n",
    "                  metrics=['accuracy'])\n",
    "\n",
    "    print(model.summary())  # Returns layers created & its dimensions to screen\n",
    "    return model"
   ]
  },
  {
   "cell_type": "markdown",
   "metadata": {},
   "source": [
    "The above model requires to inputs, namely the dimensionality of the output space & the activation function. In addition, `fit_model()` expects the number of epochs. Let's set this dictionary now."
   ]
  },
  {
   "cell_type": "code",
   "execution_count": 13,
   "metadata": {},
   "outputs": [],
   "source": [
    "def set_params():\n",
    "    model_params = {}\n",
    "\n",
    "    # Parameters for a 1 Layer Model\n",
    "    model_params['dense_1'] = 28\n",
    "    model_params['activate_1'] = 'relu'\n",
    "\n",
    "    # Parameters to Compile Model\n",
    "    model_params['loss'] = 'categorical_crossentropy'\n",
    "    model_params['optimizer'] = 'adam'\n",
    "    \n",
    "    # Parameters to Fit Model\n",
    "    model_params['epoch'] = 2\n",
    "    return model_params"
   ]
  },
  {
   "cell_type": "markdown",
   "metadata": {},
   "source": [
    "And let's call our code now."
   ]
  },
  {
   "cell_type": "code",
   "execution_count": 14,
   "metadata": {},
   "outputs": [
    {
     "name": "stdout",
     "output_type": "stream",
     "text": [
      "_________________________________________________________________\n",
      "Layer (type)                 Output Shape              Param #   \n",
      "=================================================================\n",
      "input_2 (InputLayer)         (None, 28, 28, 1)         0         \n",
      "_________________________________________________________________\n",
      "batch_normalization_1 (Batch (None, 28, 28, 1)         4         \n",
      "_________________________________________________________________\n",
      "dense_3 (Dense)              (None, 28, 28, 28)        56        \n",
      "_________________________________________________________________\n",
      "flatten_2 (Flatten)          (None, 21952)             0         \n",
      "_________________________________________________________________\n",
      "dense_4 (Dense)              (None, 10)                219530    \n",
      "=================================================================\n",
      "Total params: 219,590\n",
      "Trainable params: 219,588\n",
      "Non-trainable params: 2\n",
      "_________________________________________________________________\n",
      "None\n",
      "Epoch 1/2\n",
      "60000/60000 [==============================] - 30s 496us/step - loss: 0.4758 - acc: 0.8318\n",
      "Epoch 2/2\n",
      "60000/60000 [==============================] - 24s 398us/step - loss: 0.3897 - acc: 0.8610\n",
      "10000/10000 [==============================] - 1s 142us/step\n",
      "\n",
      "Accuracy 0.8569 & Loss 0.40734359879493715\n",
      "\n"
     ]
    }
   ],
   "source": [
    "model_params = set_params()\n",
    "model = basic_neural(model_params)\n",
    "y_pred, metrics = fit_model(model, model_params, x_train, y_train, x_test, y_test)"
   ]
  },
  {
   "cell_type": "markdown",
   "metadata": {},
   "source": [
    "### Visualizing the Results\n",
    "We can create a Confusion Plot to show how our model actually performed."
   ]
  },
  {
   "cell_type": "code",
   "execution_count": 15,
   "metadata": {},
   "outputs": [],
   "source": [
    "import itertools\n",
    "import matplotlib.pyplot as plt\n",
    "import numpy as np\n",
    "from sklearn.metrics import confusion_matrix\n",
    "\n",
    "# Required in Jupyter Notebook to show plots in line\n",
    "%matplotlib inline\n",
    "\n",
    "def conf_matrix(y_test, y_test_predict, classes, title='Confusion Matrix', out=None):\n",
    "    \"\"\" Creates a Confusion Matrix comparing the output test data vs. predicted\n",
    "        output test data. \n",
    "\n",
    "        Inputs:\n",
    "        y_test: Actual output test data\n",
    "        y_test_predict: Predicted output test data\n",
    "        classes: List of valid classes\n",
    "        title: Title of the plot [Default = 'Confusion Matrix']\n",
    "        out: Path to save the plot to [Default = None => Only show it]\n",
    "    \"\"\"\n",
    "    # Converts both output arrays into just one column based on the class\n",
    "    y_test_predict_class = y_test_predict.argmax(1)\n",
    "    y_test_class = y_test.argmax(1)\n",
    "\n",
    "    # Creates confusion matrix\n",
    "    cm_data = confusion_matrix(y_test_class, y_test_predict_class)\n",
    "    np.set_printoptions(precision=2)\n",
    "\n",
    "    # Plots Confusion Matrix\n",
    "    plt.figure()\n",
    "    plt.imshow(cm_data, interpolation='nearest', cmap=plt.cm.Blues)\n",
    "    plt.title(title)\n",
    "    tick_marks = np.arange(len(classes))\n",
    "    plt.xticks(tick_marks, classes, rotation=90)\n",
    "    plt.xlabel('Predicted Label')\n",
    "    plt.yticks(tick_marks, classes)\n",
    "    plt.ylabel('True Label')\n",
    "\n",
    "    # Plots data on chart\n",
    "    thresh = cm_data.max() / 2.\n",
    "    for i, j in itertools.product(range(cm_data.shape[0]), range(cm_data.shape[1])):\n",
    "        plt.text(j, i, format(cm_data[i, j], 'd'),\n",
    "                 horizontalalignment=\"center\",\n",
    "                 color=\"white\" if cm_data[i, j] > thresh else \"black\")\n",
    "\n",
    "    plt.tight_layout()\n",
    "\n",
    "    # Saves or Shows Plot\n",
    "    if out:\n",
    "        plt.savefig(out)\n",
    "    else:\n",
    "        plt.show()"
   ]
  },
  {
   "cell_type": "code",
   "execution_count": 16,
   "metadata": {},
   "outputs": [
    {
     "data": {
      "image/png": "[encoded data removed]",
      "text/plain": [
       "<matplotlib.figure.Figure at 0x1823a60828>"
      ]
     },
     "metadata": {},
     "output_type": "display_data"
    }
   ],
   "source": [
    "conf_matrix(y_test, y_pred, classes_list, title='Confusion Matrix')"
   ]
  },
  {
   "cell_type": "code",
   "execution_count": null,
   "metadata": {
    "collapsed": true
   },
   "outputs": [],
   "source": []
  }
 ],
 "metadata": {
  "kernelspec": {
   "display_name": "Python 3",
   "language": "python",
   "name": "python3"
  },
  "language_info": {
   "codemirror_mode": {
    "name": "ipython",
    "version": 3
   },
   "file_extension": ".py",
   "mimetype": "text/x-python",
   "name": "python",
   "nbconvert_exporter": "python",
   "pygments_lexer": "ipython3",
   "version": "3.6.3"
  }
 },
 "nbformat": 4,
 "nbformat_minor": 2
}
